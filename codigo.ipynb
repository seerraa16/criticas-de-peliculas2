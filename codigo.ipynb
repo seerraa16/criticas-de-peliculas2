{
 "cells": [
  {
   "attachments": {},
   "cell_type": "markdown",
   "metadata": {},
   "source": [
    "# Critica de peliculas"
   ]
  },
  {
   "attachments": {},
   "cell_type": "markdown",
   "metadata": {},
   "source": [
    "Comenzamos con las importaciones de lo que vamos a necesitar para manejar los datos "
   ]
  },
  {
   "cell_type": "code",
   "execution_count": 28,
   "metadata": {},
   "outputs": [],
   "source": [
    "import pandas as pd\n",
    "import numpy as np\n",
    "import matplotlib.pyplot as plt\n",
    "import seaborn as sns"
   ]
  },
  {
   "attachments": {},
   "cell_type": "markdown",
   "metadata": {},
   "source": [
    "Ahora, crearemos el dataset"
   ]
  },
  {
   "cell_type": "code",
   "execution_count": 29,
   "metadata": {},
   "outputs": [
    {
     "data": {
      "text/html": [
       "<div>\n",
       "<style scoped>\n",
       "    .dataframe tbody tr th:only-of-type {\n",
       "        vertical-align: middle;\n",
       "    }\n",
       "\n",
       "    .dataframe tbody tr th {\n",
       "        vertical-align: top;\n",
       "    }\n",
       "\n",
       "    .dataframe thead th {\n",
       "        text-align: right;\n",
       "    }\n",
       "</style>\n",
       "<table border=\"1\" class=\"dataframe\">\n",
       "  <thead>\n",
       "    <tr style=\"text-align: right;\">\n",
       "      <th></th>\n",
       "      <th>Valoracion</th>\n",
       "      <th>Votos</th>\n",
       "    </tr>\n",
       "  </thead>\n",
       "  <tbody>\n",
       "    <tr>\n",
       "      <th>0</th>\n",
       "      <td>5</td>\n",
       "      <td>40</td>\n",
       "    </tr>\n",
       "    <tr>\n",
       "      <th>1</th>\n",
       "      <td>4</td>\n",
       "      <td>99</td>\n",
       "    </tr>\n",
       "    <tr>\n",
       "      <th>2</th>\n",
       "      <td>3</td>\n",
       "      <td>145</td>\n",
       "    </tr>\n",
       "    <tr>\n",
       "      <th>3</th>\n",
       "      <td>2</td>\n",
       "      <td>133</td>\n",
       "    </tr>\n",
       "    <tr>\n",
       "      <th>4</th>\n",
       "      <td>1</td>\n",
       "      <td>96</td>\n",
       "    </tr>\n",
       "    <tr>\n",
       "      <th>5</th>\n",
       "      <td>0</td>\n",
       "      <td>40</td>\n",
       "    </tr>\n",
       "  </tbody>\n",
       "</table>\n",
       "</div>"
      ],
      "text/plain": [
       "   Valoracion  Votos\n",
       "0           5     40\n",
       "1           4     99\n",
       "2           3    145\n",
       "3           2    133\n",
       "4           1     96\n",
       "5           0     40"
      ]
     },
     "execution_count": 29,
     "metadata": {},
     "output_type": "execute_result"
    }
   ],
   "source": [
    "df_peliculas = pd.DataFrame({ 'Valoracion': [5,4,3,2,1,0], 'Votos': [40, 99, 145, 133, 96, 40]})\n",
    "df_peliculas"
   ]
  },
  {
   "attachments": {},
   "cell_type": "markdown",
   "metadata": {},
   "source": [
    "Continuaremos creando la grafica de campana"
   ]
  },
  {
   "cell_type": "code",
   "execution_count": 30,
   "metadata": {},
   "outputs": [
    {
     "data": {
      "image/png": "[encoded data removed]",
      "text/plain": [
       "<Figure size 640x480 with 1 Axes>"
      ]
     },
     "metadata": {},
     "output_type": "display_data"
    }
   ],
   "source": [
    "plt.bar(df_peliculas['Valoracion'], df_peliculas['Votos'], color = 'white', edgecolor = 'black')\n",
    "plt.gca().set_facecolor('red')\n",
    "plt.plot(df_peliculas['Valoracion'], df_peliculas['Votos'], color = 'blue', marker = 'o')\n",
    "plt.xlabel('Valoración')\n",
    "plt.ylabel('Votos')\n",
    "plt.title('Valoración de la película hecha por los usuarios')\n",
    "plt.show()\n"
   ]
  },
  {
   "attachments": {},
   "cell_type": "markdown",
   "metadata": {},
   "source": [
    "los dos siguientes pasos seran hacer un dataset cuyos datos seran los resultados del producto de la valoracion por los votos y calcular tambien las medias "
   ]
  },
  {
   "cell_type": "code",
   "execution_count": 31,
   "metadata": {},
   "outputs": [
    {
     "data": {
      "text/plain": [
       "0    200\n",
       "1    396\n",
       "2    435\n",
       "3    266\n",
       "4     96\n",
       "5      0\n",
       "dtype: int64"
      ]
     },
     "execution_count": 31,
     "metadata": {},
     "output_type": "execute_result"
    }
   ],
   "source": [
    "df_producto = df_peliculas['Valoracion'] * df_peliculas['Votos']\n",
    "df_producto"
   ]
  },
  {
   "cell_type": "code",
   "execution_count": 32,
   "metadata": {},
   "outputs": [
    {
     "data": {
      "text/plain": [
       "2.518987341772152"
      ]
     },
     "execution_count": 32,
     "metadata": {},
     "output_type": "execute_result"
    }
   ],
   "source": [
    "#ahora calculamos la media\n",
    "media = df_producto.sum() / df_peliculas['Votos'].sum()\n",
    "media"
   ]
  },
  {
   "attachments": {},
   "cell_type": "markdown",
   "metadata": {},
   "source": [
    "Tras haber calculado la media crearemos un nuevo dataset cdonde saldra calculada la varianza"
   ]
  },
  {
   "cell_type": "code",
   "execution_count": 33,
   "metadata": {},
   "outputs": [
    {
     "data": {
      "text/plain": [
       "0    246.216952\n",
       "1    217.146451\n",
       "2     33.549111\n",
       "3     35.823266\n",
       "4    221.502964\n",
       "5    253.811889\n",
       "dtype: float64"
      ]
     },
     "execution_count": 33,
     "metadata": {},
     "output_type": "execute_result"
    }
   ],
   "source": [
    "df_varianza = (df_peliculas['Valoracion'] - media)**2 * df_peliculas['Votos']\n",
    "df_varianza"
   ]
  },
  {
   "attachments": {},
   "cell_type": "markdown",
   "metadata": {},
   "source": [
    "Por último vamos a añadir la desviacion tipica "
   ]
  },
  {
   "cell_type": "code",
   "execution_count": 34,
   "metadata": {},
   "outputs": [
    {
     "data": {
      "text/plain": [
       "1.3501393893020874"
      ]
     },
     "execution_count": 34,
     "metadata": {},
     "output_type": "execute_result"
    }
   ],
   "source": [
    "df_desviacion_tipica = np.sqrt(df_varianza.sum() / df_peliculas['Votos'].sum())\n",
    "df_desviacion_tipica"
   ]
  },
  {
   "cell_type": "code",
   "execution_count": 35,
   "metadata": {},
   "outputs": [
    {
     "data": {
      "text/html": [
       "<div>\n",
       "<style scoped>\n",
       "    .dataframe tbody tr th:only-of-type {\n",
       "        vertical-align: middle;\n",
       "    }\n",
       "\n",
       "    .dataframe tbody tr th {\n",
       "        vertical-align: top;\n",
       "    }\n",
       "\n",
       "    .dataframe thead th {\n",
       "        text-align: right;\n",
       "    }\n",
       "</style>\n",
       "<table border=\"1\" class=\"dataframe\">\n",
       "  <thead>\n",
       "    <tr style=\"text-align: right;\">\n",
       "      <th></th>\n",
       "      <th>Valoracion</th>\n",
       "      <th>Votos</th>\n",
       "      <th>Producto</th>\n",
       "      <th>Varianza</th>\n",
       "      <th>Desviacion tipica</th>\n",
       "    </tr>\n",
       "  </thead>\n",
       "  <tbody>\n",
       "    <tr>\n",
       "      <th>0</th>\n",
       "      <td>5</td>\n",
       "      <td>40</td>\n",
       "      <td>200</td>\n",
       "      <td>246.216952</td>\n",
       "      <td>1.350139</td>\n",
       "    </tr>\n",
       "    <tr>\n",
       "      <th>1</th>\n",
       "      <td>4</td>\n",
       "      <td>99</td>\n",
       "      <td>396</td>\n",
       "      <td>217.146451</td>\n",
       "      <td>1.350139</td>\n",
       "    </tr>\n",
       "    <tr>\n",
       "      <th>2</th>\n",
       "      <td>3</td>\n",
       "      <td>145</td>\n",
       "      <td>435</td>\n",
       "      <td>33.549111</td>\n",
       "      <td>1.350139</td>\n",
       "    </tr>\n",
       "    <tr>\n",
       "      <th>3</th>\n",
       "      <td>2</td>\n",
       "      <td>133</td>\n",
       "      <td>266</td>\n",
       "      <td>35.823266</td>\n",
       "      <td>1.350139</td>\n",
       "    </tr>\n",
       "    <tr>\n",
       "      <th>4</th>\n",
       "      <td>1</td>\n",
       "      <td>96</td>\n",
       "      <td>96</td>\n",
       "      <td>221.502964</td>\n",
       "      <td>1.350139</td>\n",
       "    </tr>\n",
       "    <tr>\n",
       "      <th>5</th>\n",
       "      <td>0</td>\n",
       "      <td>40</td>\n",
       "      <td>0</td>\n",
       "      <td>253.811889</td>\n",
       "      <td>1.350139</td>\n",
       "    </tr>\n",
       "  </tbody>\n",
       "</table>\n",
       "</div>"
      ],
      "text/plain": [
       "   Valoracion  Votos  Producto    Varianza  Desviacion tipica\n",
       "0           5     40       200  246.216952           1.350139\n",
       "1           4     99       396  217.146451           1.350139\n",
       "2           3    145       435   33.549111           1.350139\n",
       "3           2    133       266   35.823266           1.350139\n",
       "4           1     96        96  221.502964           1.350139\n",
       "5           0     40         0  253.811889           1.350139"
      ]
     },
     "execution_count": 35,
     "metadata": {},
     "output_type": "execute_result"
    }
   ],
   "source": [
    "# ahora juntaremos en un dataframe los datos de la tabla de frecuencias, la varianza, la media y la desviacion tipica\n",
    "df_peliculas['Producto'] = df_producto\n",
    "df_peliculas['Varianza'] = df_varianza\n",
    "df_peliculas['Desviacion tipica'] = df_desviacion_tipica\n",
    "df_peliculas"
   ]
  },
  {
   "attachments": {},
   "cell_type": "markdown",
   "metadata": {},
   "source": [
    "Porcentaje del 68%"
   ]
  },
  {
   "cell_type": "code",
   "execution_count": 41,
   "metadata": {},
   "outputs": [],
   "source": [
    "porcentaje68 = 0.68\n",
    "limite_inferior = int (media - df_desviacion_tipica)\n",
    "limite_superior = int (media + df_desviacion_tipica)\n",
    "num_observaciones = observaciones = df_peliculas[(df_peliculas['Valoracion'] >= limite_inferior) & (df_peliculas['Valoracion'] <= limite_superior)]['Votos'].sum()\n"
   ]
  },
  {
   "cell_type": "code",
   "execution_count": 46,
   "metadata": {},
   "outputs": [
    {
     "name": "stdout",
     "output_type": "stream",
     "text": [
      "El intervalo de confianza del 68% es: [ 1 , 3 ]\n",
      "El numero total es de:  553 observaciones\n",
      "El número de observaciones que se encuentran en el intervalo de confianza del 68% es:  374\n",
      "El porcentaje de observaciones que se encuentran en el intervalo de confianza del 68% es:  67.63110307414105 %\n"
     ]
    }
   ],
   "source": [
    "print(\"El intervalo de confianza del 68% es: [\", limite_inferior, \",\", limite_superior, \"]\")\n",
    "print(\"El numero total es de: \", df_peliculas['Votos'].sum(), \"observaciones\")\n",
    "print(\"El número de observaciones que se encuentran en el intervalo de confianza del 68% es: \", num_observaciones)\n",
    "print(\"El porcentaje de observaciones que se encuentran en el intervalo de confianza del 68% es: \", 100*num_observaciones / df_peliculas['Votos'].sum(), \"%\")"
   ]
  },
  {
   "attachments": {},
   "cell_type": "markdown",
   "metadata": {},
   "source": [
    "Porcentaje del 95%"
   ]
  },
  {
   "cell_type": "code",
   "execution_count": 47,
   "metadata": {},
   "outputs": [],
   "source": [
    "porcentaje95 = 0.95\n",
    "limite_inferior = int (media - 2 * df_desviacion_tipica)\n",
    "limite_superior = int (media + 2 * df_desviacion_tipica)\n",
    "num_observaciones = observaciones = df_peliculas[(df_peliculas['Valoracion'] >= limite_inferior) & (df_peliculas['Valoracion'] <= limite_superior)]['Votos'].sum()"
   ]
  },
  {
   "cell_type": "code",
   "execution_count": 48,
   "metadata": {},
   "outputs": [
    {
     "name": "stdout",
     "output_type": "stream",
     "text": [
      "El intervalo de confianza del 95% es: [ 0 , 5 ]\n",
      "El numero total es de:  553 observaciones\n",
      "El número de observaciones que se encuentran en el intervalo de confianza del 95% es:  553\n",
      "El porcentaje de observaciones que se encuentran en el intervalo de confianza del 95% es:  100.0 %\n"
     ]
    }
   ],
   "source": [
    "print(\"El intervalo de confianza del 95% es: [\", limite_inferior, \",\", limite_superior, \"]\")\n",
    "print(\"El numero total es de: \", df_peliculas['Votos'].sum(), \"observaciones\")\n",
    "print(\"El número de observaciones que se encuentran en el intervalo de confianza del 95% es: \", num_observaciones)\n",
    "print(\"El porcentaje de observaciones que se encuentran en el intervalo de confianza del 95% es: \", 100*num_observaciones / df_peliculas['Votos'].sum(), \"%\")"
   ]
  },
  {
   "attachments": {},
   "cell_type": "markdown",
   "metadata": {},
   "source": [
    "Porcentaje del 97%"
   ]
  },
  {
   "cell_type": "code",
   "execution_count": 49,
   "metadata": {},
   "outputs": [],
   "source": [
    "porcentaje97 = 0.97\n",
    "limite_inferior = int (media - 3 * df_desviacion_tipica)\n",
    "limite_superior = int (media + 3 * df_desviacion_tipica)\n",
    "num_observaciones = observaciones = df_peliculas[(df_peliculas['Valoracion'] >= limite_inferior) & (df_peliculas['Valoracion'] <= limite_superior)]['Votos'].sum()"
   ]
  },
  {
   "cell_type": "code",
   "execution_count": 50,
   "metadata": {},
   "outputs": [
    {
     "name": "stdout",
     "output_type": "stream",
     "text": [
      "El intervalo de confianza del 97% es: [ -1 , 6 ]\n",
      "El numero total es de:  553 observaciones\n",
      "El número de observaciones que se encuentran en el intervalo de confianza del 97% es:  553\n",
      "El porcentaje de observaciones que se encuentran en el intervalo de confianza del 97% es:  100.0 %\n"
     ]
    }
   ],
   "source": [
    "print(\"El intervalo de confianza del 97% es: [\", limite_inferior, \",\", limite_superior, \"]\")\n",
    "print(\"El numero total es de: \", df_peliculas['Votos'].sum(), \"observaciones\")\n",
    "print(\"El número de observaciones que se encuentran en el intervalo de confianza del 97% es: \", num_observaciones)\n",
    "print(\"El porcentaje de observaciones que se encuentran en el intervalo de confianza del 97% es: \", 100*num_observaciones / df_peliculas['Votos'].sum(), \"%\")\n"
   ]
  },
  {
   "cell_type": "code",
   "execution_count": null,
   "metadata": {},
   "outputs": [],
   "source": []
  }
 ],
 "metadata": {
  "kernelspec": {
   "display_name": "base",
   "language": "python",
   "name": "python3"
  },
  "language_info": {
   "codemirror_mode": {
    "name": "ipython",
    "version": 3
   },
   "file_extension": ".py",
   "mimetype": "text/x-python",
   "name": "python",
   "nbconvert_exporter": "python",
   "pygments_lexer": "ipython3",
   "version": "3.10.9"
  },
  "orig_nbformat": 4
 },
 "nbformat": 4,
 "nbformat_minor": 2
}
